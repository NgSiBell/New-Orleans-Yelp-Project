{
 "cells": [
  {
   "cell_type": "markdown",
   "id": "76a4c7a9-a888-44b6-8743-1d56224ef835",
   "metadata": {},
   "source": [
    "# Yelp Analysis: Finding Underrated Restaurants in New Orleans\n",
    "\n",
    "This notebook brings together filtered Yelp business and review data to uncover \"hidden gem\" restaurants in New Orleans. These are restaurants with high customer satisfaction but low visibility. I will apply sentiment analysis, estimate lost revenue potential, analyze business attributes, and export cleaned datasets for Tableau visualization."
   ]
  },
  {
   "cell_type": "code",
   "execution_count": 18,
   "id": "18426b6f-a2d6-46de-8a10-bfde714f7ba3",
   "metadata": {},
   "outputs": [],
   "source": [
    "# Imports\n",
    "import pandas as pd\n",
    "import os\n",
    "from vaderSentiment.vaderSentiment import SentimentIntensityAnalyzer"
   ]
  },
  {
   "cell_type": "markdown",
   "id": "a03ae1b9-e376-4a41-9ee7-93662a950d5b",
   "metadata": {},
   "source": [
    "## Load Filtered Business and Review Data\n",
    "Load the cleaned datasets created in the previous notebooks."
   ]
  },
  {
   "cell_type": "code",
   "execution_count": 21,
   "id": "52f8a1d7-0692-4536-ad36-cdd6aa8f218e",
   "metadata": {},
   "outputs": [
    {
     "name": "stdout",
     "output_type": "stream",
     "text": [
      "Restaurants loaded: 2262\n",
      "Reviews loaded: 476572\n"
     ]
    }
   ],
   "source": [
    "nola_restaurants = pd.read_csv('nola_restaurants_clean.csv')\n",
    "df_nola_reviews = pd.read_csv('nola_reviews_filtered.csv')\n",
    "\n",
    "print(f\"Restaurants loaded: {len(nola_restaurants)}\")\n",
    "print(f\"Reviews loaded: {len(df_nola_reviews)}\")"
   ]
  },
  {
   "cell_type": "markdown",
   "id": "53308682-6001-4b19-9d4f-0591b32cdef5",
   "metadata": {},
   "source": [
    "## Merge Review Data with Business Metadata\n",
    "Improve the review data by joining it with business details like category, review count, and restaurant name."
   ]
  },
  {
   "cell_type": "code",
   "execution_count": 23,
   "id": "58173e97-0879-4b47-a11f-4a7c0fe39cd5",
   "metadata": {},
   "outputs": [
    {
     "name": "stdout",
     "output_type": "stream",
     "text": [
      "Merged dataset shape: (476572, 13)\n"
     ]
    },
    {
     "data": {
      "text/html": [
       "<div>\n",
       "<style scoped>\n",
       "    .dataframe tbody tr th:only-of-type {\n",
       "        vertical-align: middle;\n",
       "    }\n",
       "\n",
       "    .dataframe tbody tr th {\n",
       "        vertical-align: top;\n",
       "    }\n",
       "\n",
       "    .dataframe thead th {\n",
       "        text-align: right;\n",
       "    }\n",
       "</style>\n",
       "<table border=\"1\" class=\"dataframe\">\n",
       "  <thead>\n",
       "    <tr style=\"text-align: right;\">\n",
       "      <th></th>\n",
       "      <th>name</th>\n",
       "      <th>text</th>\n",
       "    </tr>\n",
       "  </thead>\n",
       "  <tbody>\n",
       "    <tr>\n",
       "      <th>0</th>\n",
       "      <td>Melt</td>\n",
       "      <td>Cute interior and owner (?) gave us tour of up...</td>\n",
       "    </tr>\n",
       "    <tr>\n",
       "      <th>1</th>\n",
       "      <td>Creole House Restaurant &amp; Oyster Bar</td>\n",
       "      <td>Service was crappy, and food was mediocre.  I ...</td>\n",
       "    </tr>\n",
       "    <tr>\n",
       "      <th>2</th>\n",
       "      <td>Mr. B's Bistro</td>\n",
       "      <td>In a word... \"OVERRATED!\".  The food took fore...</td>\n",
       "    </tr>\n",
       "    <tr>\n",
       "      <th>3</th>\n",
       "      <td>Cafe Beignet on Bourbon Street</td>\n",
       "      <td>The cafe was extremely cute. We came at 8am an...</td>\n",
       "    </tr>\n",
       "    <tr>\n",
       "      <th>4</th>\n",
       "      <td>Pho Cam Ly</td>\n",
       "      <td>After 3 weeks of working in the area I finally...</td>\n",
       "    </tr>\n",
       "  </tbody>\n",
       "</table>\n",
       "</div>"
      ],
      "text/plain": [
       "                                   name  \\\n",
       "0                                  Melt   \n",
       "1  Creole House Restaurant & Oyster Bar   \n",
       "2                        Mr. B's Bistro   \n",
       "3        Cafe Beignet on Bourbon Street   \n",
       "4                            Pho Cam Ly   \n",
       "\n",
       "                                                text  \n",
       "0  Cute interior and owner (?) gave us tour of up...  \n",
       "1  Service was crappy, and food was mediocre.  I ...  \n",
       "2  In a word... \"OVERRATED!\".  The food took fore...  \n",
       "3  The cafe was extremely cute. We came at 8am an...  \n",
       "4  After 3 weeks of working in the area I finally...  "
      ]
     },
     "execution_count": 23,
     "metadata": {},
     "output_type": "execute_result"
    }
   ],
   "source": [
    "df_reviews_joined = df_nola_reviews.merge(\n",
    "    nola_restaurants[['business_id', 'name', 'stars', 'review_count', 'categories']],\n",
    "    on='business_id',\n",
    "    how='left'\n",
    ")\n",
    "\n",
    "print(f\"Merged dataset shape: {df_reviews_joined.shape}\")\n",
    "df_reviews_joined[['name', 'text']].head()"
   ]
  },
  {
   "cell_type": "markdown",
   "id": "2b2ddd70-656d-4ff5-a21b-117236bed802",
   "metadata": {},
   "source": [
    "## Define “Underrated” Restaurants\n",
    "Restaurants with a 4.5+ star rating and fewer than 30 reviews are considered underrated since they have high satisfaction but low visibility."
   ]
  },
  {
   "cell_type": "code",
   "execution_count": 25,
   "id": "4a9fe826-d566-4c96-84e9-d52153650476",
   "metadata": {},
   "outputs": [
    {
     "name": "stdout",
     "output_type": "stream",
     "text": [
      "Underrated restaurants found: 237\n"
     ]
    },
    {
     "data": {
      "text/html": [
       "<div>\n",
       "<style scoped>\n",
       "    .dataframe tbody tr th:only-of-type {\n",
       "        vertical-align: middle;\n",
       "    }\n",
       "\n",
       "    .dataframe tbody tr th {\n",
       "        vertical-align: top;\n",
       "    }\n",
       "\n",
       "    .dataframe thead th {\n",
       "        text-align: right;\n",
       "    }\n",
       "</style>\n",
       "<table border=\"1\" class=\"dataframe\">\n",
       "  <thead>\n",
       "    <tr style=\"text-align: right;\">\n",
       "      <th></th>\n",
       "      <th>name</th>\n",
       "      <th>stars</th>\n",
       "      <th>review_count</th>\n",
       "    </tr>\n",
       "  </thead>\n",
       "  <tbody>\n",
       "    <tr>\n",
       "      <th>3</th>\n",
       "      <td>Eat Mah Taco @ Pal's Lounge</td>\n",
       "      <td>4.5</td>\n",
       "      <td>8</td>\n",
       "    </tr>\n",
       "    <tr>\n",
       "      <th>15</th>\n",
       "      <td>Stokehold Restaurant</td>\n",
       "      <td>4.5</td>\n",
       "      <td>13</td>\n",
       "    </tr>\n",
       "    <tr>\n",
       "      <th>36</th>\n",
       "      <td>The Wacked Out Weiner New Orleans</td>\n",
       "      <td>4.5</td>\n",
       "      <td>21</td>\n",
       "    </tr>\n",
       "    <tr>\n",
       "      <th>42</th>\n",
       "      <td>Petite Clouet Cafe</td>\n",
       "      <td>4.5</td>\n",
       "      <td>18</td>\n",
       "    </tr>\n",
       "    <tr>\n",
       "      <th>50</th>\n",
       "      <td>The Munch Factory</td>\n",
       "      <td>4.5</td>\n",
       "      <td>21</td>\n",
       "    </tr>\n",
       "  </tbody>\n",
       "</table>\n",
       "</div>"
      ],
      "text/plain": [
       "                                 name  stars  review_count\n",
       "3         Eat Mah Taco @ Pal's Lounge    4.5             8\n",
       "15               Stokehold Restaurant    4.5            13\n",
       "36  The Wacked Out Weiner New Orleans    4.5            21\n",
       "42                 Petite Clouet Cafe    4.5            18\n",
       "50                  The Munch Factory    4.5            21"
      ]
     },
     "execution_count": 25,
     "metadata": {},
     "output_type": "execute_result"
    }
   ],
   "source": [
    "underrated = nola_restaurants[\n",
    "    (nola_restaurants['stars'] >= 4.5) &\n",
    "    (nola_restaurants['review_count'] < 30)\n",
    "].copy()\n",
    "\n",
    "print(f\"Underrated restaurants found: {len(underrated)}\")\n",
    "underrated[['name', 'stars', 'review_count']].head()"
   ]
  },
  {
   "cell_type": "markdown",
   "id": "c0f7eeef-cb09-4b7c-9133-5fe9f6b4b29d",
   "metadata": {},
   "source": [
    "## Sentiment Analysis on 5K Sample Using VADER\n",
    "Next, I apply fast sentiment analysis on a random 5,000-review sample using the VADER library. Each review receives a sentiment score from -1 (very negative) to +1 (very positive)."
   ]
  },
  {
   "cell_type": "code",
   "execution_count": 27,
   "id": "0d54d8a1-2061-4113-91af-ed5d3d6c6f48",
   "metadata": {},
   "outputs": [
    {
     "name": "stdout",
     "output_type": "stream",
     "text": [
      "Sample sentiment scores:\n"
     ]
    },
    {
     "data": {
      "text/html": [
       "<div>\n",
       "<style scoped>\n",
       "    .dataframe tbody tr th:only-of-type {\n",
       "        vertical-align: middle;\n",
       "    }\n",
       "\n",
       "    .dataframe tbody tr th {\n",
       "        vertical-align: top;\n",
       "    }\n",
       "\n",
       "    .dataframe thead th {\n",
       "        text-align: right;\n",
       "    }\n",
       "</style>\n",
       "<table border=\"1\" class=\"dataframe\">\n",
       "  <thead>\n",
       "    <tr style=\"text-align: right;\">\n",
       "      <th></th>\n",
       "      <th>name</th>\n",
       "      <th>stars</th>\n",
       "      <th>sentiment</th>\n",
       "    </tr>\n",
       "  </thead>\n",
       "  <tbody>\n",
       "    <tr>\n",
       "      <th>351944</th>\n",
       "      <td>Daisy Dukes Express</td>\n",
       "      <td>4.0</td>\n",
       "      <td>0.9660</td>\n",
       "    </tr>\n",
       "    <tr>\n",
       "      <th>242146</th>\n",
       "      <td>Majoria's Commerce Restaurant</td>\n",
       "      <td>4.5</td>\n",
       "      <td>0.9661</td>\n",
       "    </tr>\n",
       "    <tr>\n",
       "      <th>48154</th>\n",
       "      <td>Creole House Restaurant &amp; Oyster Bar</td>\n",
       "      <td>4.0</td>\n",
       "      <td>0.8947</td>\n",
       "    </tr>\n",
       "    <tr>\n",
       "      <th>235291</th>\n",
       "      <td>The Market Cafe</td>\n",
       "      <td>3.5</td>\n",
       "      <td>0.5719</td>\n",
       "    </tr>\n",
       "    <tr>\n",
       "      <th>255296</th>\n",
       "      <td>Daisy Dukes - French Quarter</td>\n",
       "      <td>3.5</td>\n",
       "      <td>0.9863</td>\n",
       "    </tr>\n",
       "  </tbody>\n",
       "</table>\n",
       "</div>"
      ],
      "text/plain": [
       "                                        name  stars  sentiment\n",
       "351944                   Daisy Dukes Express    4.0     0.9660\n",
       "242146         Majoria's Commerce Restaurant    4.5     0.9661\n",
       "48154   Creole House Restaurant & Oyster Bar    4.0     0.8947\n",
       "235291                       The Market Cafe    3.5     0.5719\n",
       "255296          Daisy Dukes - French Quarter    3.5     0.9863"
      ]
     },
     "execution_count": 27,
     "metadata": {},
     "output_type": "execute_result"
    }
   ],
   "source": [
    "analyzer = SentimentIntensityAnalyzer()\n",
    "\n",
    "# Use actual column from merged data\n",
    "df_sample_reviews = df_reviews_joined[['name', 'text', 'stars_y']].sample(5000, random_state=42).copy()\n",
    "df_sample_reviews.rename(columns={'stars_y': 'stars'}, inplace=True)\n",
    "\n",
    "# Apply sentiment\n",
    "df_sample_reviews['sentiment'] = df_sample_reviews['text'].apply(\n",
    "    lambda x: analyzer.polarity_scores(x)['compound']\n",
    ")\n",
    "\n",
    "print(\"Sample sentiment scores:\")\n",
    "df_sample_reviews[['name', 'stars', 'sentiment']].head()"
   ]
  },
  {
   "cell_type": "markdown",
   "id": "16f1f492-5364-4d94-8e0c-e38fb2329ed7",
   "metadata": {},
   "source": [
    "## Estimate Revenue Potential\n",
    "Next I assume an average spend of $50 per review to estimate revenue. Then, I compare actual vs. potential revenue if underrated restaurants had median visibility."
   ]
  },
  {
   "cell_type": "code",
   "execution_count": 29,
   "id": "e9fac2b2-4014-4df7-9135-a1698855ce89",
   "metadata": {},
   "outputs": [
    {
     "data": {
      "text/html": [
       "<div>\n",
       "<style scoped>\n",
       "    .dataframe tbody tr th:only-of-type {\n",
       "        vertical-align: middle;\n",
       "    }\n",
       "\n",
       "    .dataframe tbody tr th {\n",
       "        vertical-align: top;\n",
       "    }\n",
       "\n",
       "    .dataframe thead th {\n",
       "        text-align: right;\n",
       "    }\n",
       "</style>\n",
       "<table border=\"1\" class=\"dataframe\">\n",
       "  <thead>\n",
       "    <tr style=\"text-align: right;\">\n",
       "      <th></th>\n",
       "      <th>name</th>\n",
       "      <th>estimated_revenue</th>\n",
       "      <th>potential_revenue_if_exposed</th>\n",
       "    </tr>\n",
       "  </thead>\n",
       "  <tbody>\n",
       "    <tr>\n",
       "      <th>3</th>\n",
       "      <td>Eat Mah Taco @ Pal's Lounge</td>\n",
       "      <td>400</td>\n",
       "      <td>2850.0</td>\n",
       "    </tr>\n",
       "    <tr>\n",
       "      <th>15</th>\n",
       "      <td>Stokehold Restaurant</td>\n",
       "      <td>650</td>\n",
       "      <td>2850.0</td>\n",
       "    </tr>\n",
       "    <tr>\n",
       "      <th>36</th>\n",
       "      <td>The Wacked Out Weiner New Orleans</td>\n",
       "      <td>1050</td>\n",
       "      <td>2850.0</td>\n",
       "    </tr>\n",
       "    <tr>\n",
       "      <th>42</th>\n",
       "      <td>Petite Clouet Cafe</td>\n",
       "      <td>900</td>\n",
       "      <td>2850.0</td>\n",
       "    </tr>\n",
       "    <tr>\n",
       "      <th>50</th>\n",
       "      <td>The Munch Factory</td>\n",
       "      <td>1050</td>\n",
       "      <td>2850.0</td>\n",
       "    </tr>\n",
       "  </tbody>\n",
       "</table>\n",
       "</div>"
      ],
      "text/plain": [
       "                                 name  estimated_revenue  \\\n",
       "3         Eat Mah Taco @ Pal's Lounge                400   \n",
       "15               Stokehold Restaurant                650   \n",
       "36  The Wacked Out Weiner New Orleans               1050   \n",
       "42                 Petite Clouet Cafe                900   \n",
       "50                  The Munch Factory               1050   \n",
       "\n",
       "    potential_revenue_if_exposed  \n",
       "3                         2850.0  \n",
       "15                        2850.0  \n",
       "36                        2850.0  \n",
       "42                        2850.0  \n",
       "50                        2850.0  "
      ]
     },
     "execution_count": 29,
     "metadata": {},
     "output_type": "execute_result"
    }
   ],
   "source": [
    "avg_spend = 50\n",
    "nola_restaurants['estimated_revenue'] = nola_restaurants['review_count'] * avg_spend\n",
    "median_revenue = nola_restaurants['estimated_revenue'].median()\n",
    "\n",
    "underrated = nola_restaurants[\n",
    "    (nola_restaurants['stars'] >= 4.5) &\n",
    "    (nola_restaurants['review_count'] < 30)\n",
    "].copy()\n",
    "underrated['potential_revenue_if_exposed'] = median_revenue\n",
    "\n",
    "underrated[['name', 'estimated_revenue', 'potential_revenue_if_exposed']].head()"
   ]
  },
  {
   "cell_type": "markdown",
   "id": "dfeb2dfc-e6fa-480b-a782-60e91c2252a8",
   "metadata": {},
   "source": [
    "## Analyze Common Business Features\n",
    "Next I explore which business categories (like cuisine or service type) appear most often in high-rated restaurants. This can help uncover success patterns."
   ]
  },
  {
   "cell_type": "code",
   "execution_count": 31,
   "id": "5eb4d17c-35f8-4d6a-8ef5-778ef62ea797",
   "metadata": {},
   "outputs": [
    {
     "name": "stdout",
     "output_type": "stream",
     "text": [
      "Top business categories in highly-rated restaurants:\n"
     ]
    },
    {
     "data": {
      "text/plain": [
       "Restaurants           595\n",
       "Food                  256\n",
       "Nightlife             134\n",
       "Bars                  123\n",
       "Breakfast & Brunch    105\n",
       "American (New)         94\n",
       "Sandwiches             88\n",
       "Seafood                80\n",
       "Cajun/Creole           77\n",
       "Coffee & Tea           76\n",
       "dtype: int64"
      ]
     },
     "execution_count": 31,
     "metadata": {},
     "output_type": "execute_result"
    }
   ],
   "source": [
    "top_rated = nola_restaurants[nola_restaurants['stars'] >= 4.5]\n",
    "category_counts = top_rated['categories'].str.get_dummies(sep=', ').sum().sort_values(ascending=False)\n",
    "\n",
    "print(\"Top business categories in highly-rated restaurants:\")\n",
    "category_counts.head(10)"
   ]
  },
  {
   "cell_type": "markdown",
   "id": "39b8fc1a-d317-4548-b64b-3c255f2985b8",
   "metadata": {},
   "source": [
    "## Export Clean Datasets for Tableau\n",
    "Finally, export all relevant outputs to the `exports/` folder for use in Tableau dashboards."
   ]
  },
  {
   "cell_type": "code",
   "execution_count": 43,
   "id": "8a2ee74b-fbcc-4929-b4af-6ffceeefcfd8",
   "metadata": {},
   "outputs": [
    {
     "name": "stdout",
     "output_type": "stream",
     "text": [
      "Export complete. Files saved to /exports/\n",
      "['nola_restaurants_with_revenue.csv', 'nola_restaurants_with_revenue.xlsx', 'nola_restaurants_with_revenue1.csv', 'nola_reviews_sample_sentiment.csv', 'nola_reviews_sample_sentiment.xlsx', 'nola_reviews_sample_sentiment1.csv', 'nola_reviews_sample_sentiment2.csv', 'nola_underrated_restaurants.csv', 'nola_underrated_restaurants.xlsx', 'nola_underrated_restaurants1.csv']\n"
     ]
    }
   ],
   "source": [
    "os.makedirs('exports', exist_ok=True)\n",
    "\n",
    "df_sample_reviews.to_csv('exports/nola_reviews_sample_sentiment1.csv', index=False)\n",
    "nola_restaurants.to_csv('exports/nola_restaurants_with_revenue1.csv', index=False)\n",
    "underrated.to_csv('exports/nola_underrated_restaurants1.csv', index=False)\n",
    "\n",
    "print(\"Export complete. Files saved to /exports/\")\n",
    "print(os.listdir('exports'))"
   ]
  },
  {
   "cell_type": "markdown",
   "id": "62b4f16f-db0e-407c-b901-e66a7539a4d6",
   "metadata": {},
   "source": [
    "### Summary\n",
    "- Merged business and review data for New Orleans\n",
    "- Identified \"hidden gem\" restaurants with strong ratings and low visibility\n",
    "- Applied fast sentiment analysis using VADER\n",
    "- Estimated potential revenue uplift\n",
    "- Analyzed top business features in high-performing restaurants\n",
    "- Exported cleaned datasets for Tableau visualization"
   ]
  }
 ],
 "metadata": {
  "kernelspec": {
   "display_name": "Python [conda env:base] *",
   "language": "python",
   "name": "conda-base-py"
  },
  "language_info": {
   "codemirror_mode": {
    "name": "ipython",
    "version": 3
   },
   "file_extension": ".py",
   "mimetype": "text/x-python",
   "name": "python",
   "nbconvert_exporter": "python",
   "pygments_lexer": "ipython3",
   "version": "3.12.7"
  }
 },
 "nbformat": 4,
 "nbformat_minor": 5
}
