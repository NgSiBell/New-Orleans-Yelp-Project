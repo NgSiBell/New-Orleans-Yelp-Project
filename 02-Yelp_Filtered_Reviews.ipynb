{
 "cells": [
  {
   "cell_type": "markdown",
   "id": "0a697fd6-ad6d-463d-ad03-a2f1083557fd",
   "metadata": {},
   "source": [
    "# Yelp Open Dataset: Filter Reviews for New Orleans Restaurants\n",
    "\n",
    "This notebook loads the full Yelp reviews dataset and filters it to keep only the reviews related to New Orleans restaurants. This will allow me to analyze customer sentiment and behavior in later steps."
   ]
  },
  {
   "cell_type": "code",
   "execution_count": 2,
   "id": "fd0ff21e-598a-483a-8e7d-f6cab9462cec",
   "metadata": {},
   "outputs": [],
   "source": [
    "# Import libraries\n",
    "import pandas as pd\n",
    "import json"
   ]
  },
  {
   "cell_type": "markdown",
   "id": "30bf2720-3a1d-43f0-8955-5b0fb39bbb26",
   "metadata": {},
   "source": [
    "## Load and Filter the Review Dataset\n",
    "\n",
    "The Yelp review dataset is very large, so it'll be read it line by line and keep only those reviews that match one of our New Orleans restaurants."
   ]
  },
  {
   "cell_type": "code",
   "execution_count": 4,
   "id": "96f4841f-cf10-4055-87f6-ea5aaddd12ff",
   "metadata": {},
   "outputs": [
    {
     "name": "stdout",
     "output_type": "stream",
     "text": [
      "Loading business data...\n",
      "Total New Orleans restaurants found: 2262\n",
      "                            name  stars  review_count  \\\n",
      "87                   Copper Vine    4.5           350   \n",
      "103   Mahony's Po-Boys & Seafood    4.0           382   \n",
      "131                     Altamura    3.5            27   \n",
      "231  Eat Mah Taco @ Pal's Lounge    4.5             8   \n",
      "253              Mellow Mushroom    3.5           149   \n",
      "\n",
      "                                            categories  \n",
      "87   Nightlife, Pubs, Event Planning & Services, Wi...  \n",
      "103                 Restaurants, Seafood, Cajun/Creole  \n",
      "131  Cocktail Bars, Italian, Nightlife, Seafood, Ba...  \n",
      "231  American (New), Food, Bars, Nightlife, Lounges...  \n",
      "253    Pizza, Restaurants, Bars, Nightlife, Sandwiches  \n",
      "Filtering reviews... this may take a few minutes.\n",
      "Total NOLA reviews loaded: 476572\n",
      "              business_id  stars  \\\n",
      "0  e4Vwtrqf-wpJfwesgvdgxQ    4.0   \n",
      "1  S2Ho8yLxhKAa26pBAm6rxA    3.0   \n",
      "2  W4ZEKkva9HpAdZG88juwyQ    3.0   \n",
      "3  I6L0Zxi5Ww0zEWSAVgngeQ    4.0   \n",
      "4  PzhPMkaNYiKDTHoTG0r8rw    4.0   \n",
      "\n",
      "                                                text  \n",
      "0  Cute interior and owner (?) gave us tour of up...  \n",
      "1  Service was crappy, and food was mediocre.  I ...  \n",
      "2  In a word... \"OVERRATED!\".  The food took fore...  \n",
      "3  The cafe was extremely cute. We came at 8am an...  \n",
      "4  After 3 weeks of working in the area I finally...  \n"
     ]
    }
   ],
   "source": [
    "print(\"Loading business data...\")\n",
    "businesses = []\n",
    "with open('yelp_academic_dataset_business.json', 'r', encoding='utf-8') as f:\n",
    "    for line in f:\n",
    "        businesses.append(json.loads(line))\n",
    "\n",
    "df_business = pd.DataFrame(businesses)\n",
    "df_business['categories'] = df_business['categories'].fillna('')\n",
    "\n",
    "# Filter for restaurants in New Orleans\n",
    "is_restaurant = df_business['categories'].str.contains('Restaurant', case=False)\n",
    "is_new_orleans = df_business['city'].str.lower() == 'new orleans'\n",
    "\n",
    "nola_restaurants = df_business[is_restaurant & is_new_orleans]\n",
    "\n",
    "print(f\"Total New Orleans restaurants found: {len(nola_restaurants)}\")\n",
    "print(nola_restaurants[['name', 'stars', 'review_count', 'categories']].head())\n",
    "\n",
    "# --------------------------\n",
    "# Step 2: Filter Reviews for NOLA Restaurants\n",
    "# --------------------------\n",
    "print(\"Filtering reviews... this may take a few minutes.\")\n",
    "\n",
    "nola_business_ids = set(nola_restaurants['business_id'])\n",
    "nola_reviews = []\n",
    "\n",
    "with open('yelp_academic_dataset_review.json', 'r', encoding='utf-8') as f:\n",
    "    for line in f:\n",
    "        review = json.loads(line)\n",
    "        if review['business_id'] in nola_business_ids:\n",
    "            nola_reviews.append(review)\n",
    "\n",
    "df_nola_reviews = pd.DataFrame(nola_reviews)\n",
    "\n",
    "print(f\"Total NOLA reviews loaded: {len(df_nola_reviews)}\")\n",
    "print(df_nola_reviews[['business_id', 'stars', 'text']].head())"
   ]
  },
  {
   "cell_type": "markdown",
   "id": "c020160c-86be-49c5-a960-436e55799ce0",
   "metadata": {},
   "source": [
    "## Preview the Filtered Reviews\n",
    "Confirm that the review dataset looks correct."
   ]
  },
  {
   "cell_type": "code",
   "execution_count": 6,
   "id": "b0af3bb2-4625-4af4-a757-d0df86ebb0a6",
   "metadata": {},
   "outputs": [
    {
     "name": "stdout",
     "output_type": "stream",
     "text": [
      "Total New Orleans restaurants found: 2262\n",
      "                            name  stars  review_count  \\\n",
      "87                   Copper Vine    4.5           350   \n",
      "103   Mahony's Po-Boys & Seafood    4.0           382   \n",
      "131                     Altamura    3.5            27   \n",
      "231  Eat Mah Taco @ Pal's Lounge    4.5             8   \n",
      "253              Mellow Mushroom    3.5           149   \n",
      "\n",
      "                                            categories  \n",
      "87   Nightlife, Pubs, Event Planning & Services, Wi...  \n",
      "103                 Restaurants, Seafood, Cajun/Creole  \n",
      "131  Cocktail Bars, Italian, Nightlife, Seafood, Ba...  \n",
      "231  American (New), Food, Bars, Nightlife, Lounges...  \n",
      "253    Pizza, Restaurants, Bars, Nightlife, Sandwiches  \n"
     ]
    }
   ],
   "source": [
    "print(f\"Total New Orleans restaurants found: {len(nola_restaurants)}\")\n",
    "print(nola_restaurants[['name', 'stars', 'review_count', 'categories']].head())"
   ]
  },
  {
   "cell_type": "markdown",
   "id": "610e38c3-38e8-4498-b5b7-98ffb3827cc3",
   "metadata": {},
   "source": [
    "## Save the Filtered Review Data\n",
    "\n",
    "Save this for use in the next notebook, where I'll join it with business info and run sentiment analysis."
   ]
  },
  {
   "cell_type": "code",
   "execution_count": 8,
   "id": "c5fb4345-cf77-481b-a9f9-a66a63691cb7",
   "metadata": {},
   "outputs": [],
   "source": [
    "df_nola_reviews.to_csv('nola_reviews_filtered.csv', index=False)"
   ]
  },
  {
   "cell_type": "markdown",
   "id": "82d0ac2e-e2b0-464a-aae7-38f3728e57b3",
   "metadata": {},
   "source": [
    "### Summary\n",
    "- Loaded the Yelp review dataset line-by-line\n",
    "- Filtered it to include only reviews for restaurants in New Orleans\n",
    "- Saved the cleaned review data for use in downstream analysis"
   ]
  }
 ],
 "metadata": {
  "kernelspec": {
   "display_name": "Python [conda env:base] *",
   "language": "python",
   "name": "conda-base-py"
  },
  "language_info": {
   "codemirror_mode": {
    "name": "ipython",
    "version": 3
   },
   "file_extension": ".py",
   "mimetype": "text/x-python",
   "name": "python",
   "nbconvert_exporter": "python",
   "pygments_lexer": "ipython3",
   "version": "3.12.7"
  }
 },
 "nbformat": 4,
 "nbformat_minor": 5
}
