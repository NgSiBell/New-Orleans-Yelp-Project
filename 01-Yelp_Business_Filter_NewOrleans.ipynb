{
 "cells": [
  {
   "cell_type": "markdown",
   "id": "f813671f-91d6-4e7a-8a5c-02317ed84c08",
   "metadata": {},
   "source": [
    "# Yelp Open Dataset: Load and Filter the Yelp Dataset to New Orleans Restaurants\n",
    "This notebook loads the Yelp Academic Dataset and filters it to isolate restaurant businesses located in New Orleans, Louisiana. This is going to be used to filter into a business list for downstream analysis like reviews, sentiment, and business insights."
   ]
  },
  {
   "cell_type": "code",
   "execution_count": 10,
   "id": "57a0301c-b24c-4beb-b03b-c7236b30298f",
   "metadata": {},
   "outputs": [],
   "source": [
    "# Import libraries\n",
    "import pandas as pd\n",
    "import json"
   ]
  },
  {
   "cell_type": "markdown",
   "id": "0f6f34a8-4c8b-4ae3-936a-3e5d0b400326",
   "metadata": {},
   "source": [
    "## Load the Yelp Business Dataset (JSON)\n",
    "\n",
    "Yelp's business data is stored in a JSON format, where each line is a separate JSON object. We'll load it line-by-line into a list and then convert it to a Pandas DataFrame."
   ]
  },
  {
   "cell_type": "code",
   "execution_count": 13,
   "id": "f0c1e6ca-e81b-4308-9d49-0dee39f557dc",
   "metadata": {},
   "outputs": [],
   "source": [
    "businesses = []\n",
    "with open('yelp_academic_dataset_business.json', 'r', encoding='utf-8') as f:\n",
    "    for line in f:\n",
    "        businesses.append(json.loads(line))\n",
    "\n",
    "df_business = pd.DataFrame(businesses)"
   ]
  },
  {
   "cell_type": "markdown",
   "id": "f061991b-eacc-4247-ae46-1ce098fee5f5",
   "metadata": {},
   "source": [
    "## Clean and Prepare the Data\n",
    "\n",
    "Ensure that category values are not null so I can filter businesses by type. Then look specifically for businesses that are:\n",
    "- Located in New Orleans\n",
    "- Have \"Restaurant\" listed in their categories"
   ]
  },
  {
   "cell_type": "code",
   "execution_count": 15,
   "id": "70a98e6a-ee00-4618-b99c-b586c9288101",
   "metadata": {},
   "outputs": [],
   "source": [
    "df_business['categories'] = df_business['categories'].fillna('')\n",
    "\n",
    "# Apply filters\n",
    "is_restaurant = df_business['categories'].str.contains('Restaurant', case=False)\n",
    "is_new_orleans = df_business['city'].str.lower() == 'new orleans'\n",
    "\n",
    "# Combine filters\n",
    "nola_restaurants = df_business[is_restaurant & is_new_orleans]\n"
   ]
  },
  {
   "cell_type": "markdown",
   "id": "f9ee1a77-ea1f-4b43-ac05-855ba2b243ce",
   "metadata": {},
   "source": [
    "## Preview the Filtered New Orleans Restaurants\n",
    "\n",
    "Now that there is a list of all restaurant businesses in New Orleans. This is a preview of a few to confirm."
   ]
  },
  {
   "cell_type": "code",
   "execution_count": 17,
   "id": "6cebec59-6a7b-4bbd-b81e-c7106c5d3f5f",
   "metadata": {},
   "outputs": [
    {
     "name": "stdout",
     "output_type": "stream",
     "text": [
      "Total New Orleans restaurants found: 2262\n"
     ]
    },
    {
     "data": {
      "text/html": [
       "<div>\n",
       "<style scoped>\n",
       "    .dataframe tbody tr th:only-of-type {\n",
       "        vertical-align: middle;\n",
       "    }\n",
       "\n",
       "    .dataframe tbody tr th {\n",
       "        vertical-align: top;\n",
       "    }\n",
       "\n",
       "    .dataframe thead th {\n",
       "        text-align: right;\n",
       "    }\n",
       "</style>\n",
       "<table border=\"1\" class=\"dataframe\">\n",
       "  <thead>\n",
       "    <tr style=\"text-align: right;\">\n",
       "      <th></th>\n",
       "      <th>name</th>\n",
       "      <th>stars</th>\n",
       "      <th>review_count</th>\n",
       "      <th>categories</th>\n",
       "    </tr>\n",
       "  </thead>\n",
       "  <tbody>\n",
       "    <tr>\n",
       "      <th>87</th>\n",
       "      <td>Copper Vine</td>\n",
       "      <td>4.5</td>\n",
       "      <td>350</td>\n",
       "      <td>Nightlife, Pubs, Event Planning &amp; Services, Wi...</td>\n",
       "    </tr>\n",
       "    <tr>\n",
       "      <th>103</th>\n",
       "      <td>Mahony's Po-Boys &amp; Seafood</td>\n",
       "      <td>4.0</td>\n",
       "      <td>382</td>\n",
       "      <td>Restaurants, Seafood, Cajun/Creole</td>\n",
       "    </tr>\n",
       "    <tr>\n",
       "      <th>131</th>\n",
       "      <td>Altamura</td>\n",
       "      <td>3.5</td>\n",
       "      <td>27</td>\n",
       "      <td>Cocktail Bars, Italian, Nightlife, Seafood, Ba...</td>\n",
       "    </tr>\n",
       "    <tr>\n",
       "      <th>231</th>\n",
       "      <td>Eat Mah Taco @ Pal's Lounge</td>\n",
       "      <td>4.5</td>\n",
       "      <td>8</td>\n",
       "      <td>American (New), Food, Bars, Nightlife, Lounges...</td>\n",
       "    </tr>\n",
       "    <tr>\n",
       "      <th>253</th>\n",
       "      <td>Mellow Mushroom</td>\n",
       "      <td>3.5</td>\n",
       "      <td>149</td>\n",
       "      <td>Pizza, Restaurants, Bars, Nightlife, Sandwiches</td>\n",
       "    </tr>\n",
       "  </tbody>\n",
       "</table>\n",
       "</div>"
      ],
      "text/plain": [
       "                            name  stars  review_count  \\\n",
       "87                   Copper Vine    4.5           350   \n",
       "103   Mahony's Po-Boys & Seafood    4.0           382   \n",
       "131                     Altamura    3.5            27   \n",
       "231  Eat Mah Taco @ Pal's Lounge    4.5             8   \n",
       "253              Mellow Mushroom    3.5           149   \n",
       "\n",
       "                                            categories  \n",
       "87   Nightlife, Pubs, Event Planning & Services, Wi...  \n",
       "103                 Restaurants, Seafood, Cajun/Creole  \n",
       "131  Cocktail Bars, Italian, Nightlife, Seafood, Ba...  \n",
       "231  American (New), Food, Bars, Nightlife, Lounges...  \n",
       "253    Pizza, Restaurants, Bars, Nightlife, Sandwiches  "
      ]
     },
     "execution_count": 17,
     "metadata": {},
     "output_type": "execute_result"
    }
   ],
   "source": [
    "print(f\"Total New Orleans restaurants found: {len(nola_restaurants)}\")\n",
    "nola_restaurants[['name', 'stars', 'review_count', 'categories']].head()"
   ]
  },
  {
   "cell_type": "markdown",
   "id": "0e817cab-d1ad-44c8-8148-43e96ad0c2fa",
   "metadata": {},
   "source": [
    "## Save the Filtered Data for Use in Other Notebooks\n",
    "\n",
    "Export this DataFrame so I can reuse it in the next step when I filter reviews."
   ]
  },
  {
   "cell_type": "code",
   "execution_count": 19,
   "id": "78f4dce5-c71a-404f-bb85-b3a7a47f554c",
   "metadata": {},
   "outputs": [],
   "source": [
    "nola_restaurants.to_csv('nola_restaurants_clean.csv', index=False)"
   ]
  },
  {
   "cell_type": "markdown",
   "id": "8ba58695-2157-4a48-bb5e-4ccf41d04b42",
   "metadata": {},
   "source": [
    "### Summary\n",
    "- Loaded the full Yelp business dataset (line-by-line JSON)\n",
    "- Filtered it to include only restaurants based in New Orleans\n",
    "- Saved the cleaned business data for the next stage"
   ]
  }
 ],
 "metadata": {
  "kernelspec": {
   "display_name": "Python [conda env:base] *",
   "language": "python",
   "name": "conda-base-py"
  },
  "language_info": {
   "codemirror_mode": {
    "name": "ipython",
    "version": 3
   },
   "file_extension": ".py",
   "mimetype": "text/x-python",
   "name": "python",
   "nbconvert_exporter": "python",
   "pygments_lexer": "ipython3",
   "version": "3.12.7"
  }
 },
 "nbformat": 4,
 "nbformat_minor": 5
}
